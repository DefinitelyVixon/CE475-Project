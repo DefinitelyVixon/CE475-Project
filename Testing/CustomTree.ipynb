{
 "cells": [
  {
   "cell_type": "code",
   "execution_count": null,
   "outputs": [],
   "source": [
    "from IPython.core.display_functions import display\n",
    "from sklearn.metrics import make_scorer, mean_absolute_error\n",
    "import matplotlib.pyplot as plt\n",
    "import seaborn as sns\n",
    "import pandas as pd\n",
    "import numpy as np\n",
    "\n",
    "np.set_printoptions(precision=3, suppress=True)\n",
    "ecm = make_scorer(mean_absolute_error)\n",
    "k_fold_value = 5\n",
    "\n",
    "raw_dataset = pd.read_csv('dataset_v1.csv', sep=',', skipinitialspace=True)\n",
    "dataset = raw_dataset.copy()\n",
    "predict_set = dataset.tail(20)\n",
    "dataset = dataset.drop(predict_set.index).drop('SampleNo', axis=1).drop('x6', axis=1)\n",
    "\n",
    "predictors = ['x1', 'x2', 'x3', 'x4', 'x5']\n",
    "all_test_results = {}\n",
    "\n",
    "features, labels = dataset[predictors], dataset['Y']"
   ],
   "metadata": {
    "collapsed": false,
    "pycharm": {
     "name": "#%%\n"
    }
   }
  },
  {
   "cell_type": "code",
   "execution_count": null,
   "outputs": [],
   "source": [
    "from sklearn.preprocessing import PolynomialFeatures\n",
    "from sklearn.linear_model import LinearRegression\n",
    "from sklearn.model_selection import cross_val_score, cross_val_predict\n",
    "\n",
    "\n",
    "class ModelResult:\n",
    "    def __init__(self, info_dict: dict):\n",
    "        self.model = info_dict['model']\n",
    "        self.arg = info_dict['arg']\n",
    "        self.predictors = info_dict['predictors']\n",
    "        self.predicted = info_dict['predicted']\n",
    "        self.error = info_dict['error']\n",
    "        self.estimator = info_dict['estimator']\n",
    "\n",
    "\n",
    "def single_linear_regression(x, y, arg=None, inputs=None, keep_estimator=False):\n",
    "    estimator = LinearRegression()\n",
    "    cv_scores = cross_val_score(estimator=estimator,\n",
    "                                X=x,\n",
    "                                y=y,\n",
    "                                cv=5,\n",
    "                                scoring=ecm)\n",
    "    cv_predictions = cross_val_predict(estimator=estimator,\n",
    "                                       X=x,\n",
    "                                       y=y,\n",
    "                                       cv=5)\n",
    "    if keep_estimator:\n",
    "        estimator.fit(x, y)\n",
    "\n",
    "    return ModelResult({'model': 'single_lin_regression',\n",
    "                        'arg': '',\n",
    "                        'predictors': inputs,\n",
    "                        'predicted': cv_predictions,\n",
    "                        'error': cv_scores.sum() / len(cv_scores),\n",
    "                        'estimator': estimator})\n",
    "\n",
    "\n",
    "def polynomial_regression(x, y, arg=None, inputs=None, keep_estimator=False):\n",
    "    estimator = LinearRegression()\n",
    "    poly_features = PolynomialFeatures(degree=arg, include_bias=False).fit_transform(x)\n",
    "    cv_scores = cross_val_score(estimator=estimator,\n",
    "                                X=poly_features,\n",
    "                                y=y,\n",
    "                                cv=5, scoring=ecm)\n",
    "    cv_predictions = cross_val_predict(estimator=estimator,\n",
    "                                       X=poly_features,\n",
    "                                       y=y,\n",
    "                                       cv=5)\n",
    "    if keep_estimator:\n",
    "        estimator.fit(poly_features, y)\n",
    "    return ModelResult({'model': 'polynomial_regression',\n",
    "                        'arg': f'order={arg}',\n",
    "                        'predictors': inputs,\n",
    "                        'predicted': cv_predictions,\n",
    "                        'error': cv_scores.sum() / len(cv_scores),\n",
    "                        'estimator': estimator})"
   ],
   "metadata": {
    "collapsed": false,
    "pycharm": {
     "name": "#%%\n"
    }
   }
  },
  {
   "cell_type": "code",
   "execution_count": null,
   "metadata": {
    "collapsed": true
   },
   "outputs": [],
   "source": [
    "def split_by_threshold(ss, predictor, threshold):\n",
    "    return ss[ss[predictor] < threshold], ss[ss[predictor] >= threshold]\n",
    "\n",
    "\n",
    "def decision_sets(source_set, conditions):\n",
    "    return_set = []\n",
    "    sample_set = source_set.copy()\n",
    "    for condition in conditions:\n",
    "        predictor, operator, threshold = condition[:2], condition[2], int(condition[3:])\n",
    "        lt, gt = split_by_threshold(sample_set, predictor, threshold)\n",
    "        if operator == '<':\n",
    "            return_set.append(lt)\n",
    "            sample_set = gt\n",
    "        else:\n",
    "            return_set.append(gt)\n",
    "            sample_set = lt\n",
    "        if condition == conditions[-1]:\n",
    "            return_set.append(sample_set)\n",
    "    return return_set\n",
    "\n",
    "\n",
    "def subplot_for_five(data):\n",
    "    fig, axes = plt.subplots(2, 3, figsize=(18, 10))\n",
    "    axes[1][2].set_visible(False)\n",
    "    axes[1][0].set_position([0.24, 0.125, 0.228, 0.343])\n",
    "    axes[1][1].set_position([0.55, 0.125, 0.228, 0.343])\n",
    "    for i in range(len(predictors)):\n",
    "        sns.scatterplot(ax=axes[i // 3, i % 3], x=data[predictors[i]], y=data['Y'], alpha=0.5, color='b')"
   ]
  },
  {
   "cell_type": "code",
   "execution_count": null,
   "outputs": [],
   "source": [
    "subplot_for_five(data=dataset)"
   ],
   "metadata": {
    "collapsed": false,
    "pycharm": {
     "name": "#%%\n"
    }
   }
  },
  {
   "cell_type": "code",
   "source": [
    "n1_lt, n1_gt = split_by_threshold(dataset, 'x5', threshold=5)\n",
    "subplot_for_five(data=n1_gt)\n",
    "subplot_for_five(data=n1_lt)"
   ],
   "metadata": {
    "collapsed": false,
    "pycharm": {
     "name": "#%%\n"
    }
   },
   "execution_count": null,
   "outputs": []
  },
  {
   "cell_type": "code",
   "execution_count": null,
   "outputs": [],
   "source": [
    "n2_lt, n2_gt = split_by_threshold(n1_lt, 'x1', threshold=20)\n",
    "subplot_for_five(data=n2_lt)\n",
    "subplot_for_five(data=n2_gt)"
   ],
   "metadata": {
    "collapsed": false,
    "pycharm": {
     "name": "#%%\n"
    }
   }
  },
  {
   "cell_type": "code",
   "source": [
    "def predict(train_sets, test_sets):\n",
    "    decision_models = get_decision_models(train_sets)\n",
    "    predictions = pd.DataFrame()\n",
    "    for i in range(len(decision_models)):\n",
    "        estimator = decision_models[i].estimator\n",
    "        inputs = decision_models[i].predictors\n",
    "        test_set = test_sets[i][inputs]\n",
    "\n",
    "        if decision_models[i].model == 'polynomial_regression':\n",
    "            degree = int(decision_models[i].arg.split('=')[-1])\n",
    "            test_set = PolynomialFeatures(degree=degree, include_bias=False).fit_transform(test_set)\n",
    "\n",
    "        y_predicted = estimator.predict(test_set)\n",
    "        predictions = pd.concat([predictions,\n",
    "                                 pd.DataFrame({'Predictions': y_predicted}, index=test_sets[i].index)])\n",
    "    predictions.sort_index(inplace=True)\n",
    "    with pd.option_context('display.max_rows', None,):\n",
    "        display(predictions)\n",
    "\n",
    "\n",
    "def get_decision_models(train_sets):\n",
    "    decisions = []\n",
    "    for train_set in train_sets:\n",
    "        train_model = train_set['model'](x=train_set['data'][train_set['predictor']],\n",
    "                                         y=train_set['data']['Y'],\n",
    "                                         inputs=train_set['predictor'], arg=train_set['arg'],\n",
    "                                         keep_estimator=True)\n",
    "        decisions.append(train_model)\n",
    "    return decisions\n",
    "\n",
    "\n",
    "def plot_target_sets(conditions):\n",
    "    fig = plt.figure(figsize=(18, 5))\n",
    "\n",
    "    cv_error = 0\n",
    "    plot_i = 1\n",
    "    predictions = pd.DataFrame()\n",
    "    decision_df = pd.DataFrame(columns=['Model', 'Predictors', 'Args', 'Error'])\n",
    "\n",
    "    for train_set in conditions:\n",
    "        train_model = train_set['model'](x=train_set['data'][train_set['predictor']],\n",
    "                                         y=train_set['data']['Y'],\n",
    "                                         inputs=train_set['predictor'], arg=train_set['arg'])\n",
    "\n",
    "        predictions = pd.concat([predictions,\n",
    "                                 pd.DataFrame({'SampleNo': train_set['data']['Y'].index,\n",
    "                                               'Predictions': train_model.predicted})])\n",
    "\n",
    "        decision_df.loc[train_set['title']] = [train_model.model, train_model.predictors,\n",
    "                                               train_model.arg, train_model.error]\n",
    "\n",
    "        if len(train_set['predictor']) == 1:\n",
    "            ax = fig.add_subplot(1, 3, plot_i)\n",
    "            sns.scatterplot(ax=ax, x=train_set['data'][train_set['predictor'][0]], y=train_set['data']['Y'],\n",
    "                            color='b', label='Actual Data')\n",
    "            sns.scatterplot(ax=ax, x=train_set['data'][train_set['predictor'][0]], y=train_model.predicted,\n",
    "                            color='r', label='Predicted')\n",
    "            ax.set_title(train_set['title'])\n",
    "        elif len(train_set['predictor']) == 2:\n",
    "            ax = fig.add_subplot(1, 3, plot_i, projection='3d')\n",
    "            ax.view_init(elev=2., azim=-96)\n",
    "            ax.set_box_aspect(aspect=None, zoom=1.35)\n",
    "\n",
    "            x_axis = train_set['predictor'][0]\n",
    "            y_axis = train_set['predictor'][1]\n",
    "            z_axis = 'Y'\n",
    "\n",
    "            ax.scatter(x3_train[x_axis], x3_train[y_axis], x3_train[z_axis], c=x3_train[z_axis])\n",
    "            ax.plot_trisurf(x3_train[x_axis], x3_train[y_axis], train_model.predicted,\n",
    "                            linewidth=0, antialiased=True, alpha=0.3, color='r')\n",
    "\n",
    "            ax.set_xlabel(x_axis)\n",
    "            ax.set_ylabel(y_axis)\n",
    "            ax.set_zlabel(z_axis)\n",
    "            ax.set_title(train_set['title'])\n",
    "        else:\n",
    "            pass\n",
    "\n",
    "        cv_error += train_model.error\n",
    "        plot_i += 1\n",
    "\n",
    "    print('Total CV Score (MAE) =', cv_error)\n",
    "    display(decision_df)"
   ],
   "metadata": {
    "collapsed": false,
    "pycharm": {
     "name": "#%%\n"
    }
   },
   "execution_count": null,
   "outputs": []
  },
  {
   "cell_type": "code",
   "execution_count": null,
   "outputs": [],
   "source": [
    "x5_train, x1_train, x3_train = decision_sets(dataset, ['x5>5', 'x1<20'])\n",
    "test_one = [{'predictor': ['x5'], 'data': x5_train,\n",
    "             'title': 'x5>5', 'model': single_linear_regression, 'arg': None},\n",
    "            {'predictor': ['x1'], 'data': x1_train,\n",
    "             'title': 'x5<5 && x1<20', 'model': polynomial_regression, 'arg': 3},\n",
    "            {'predictor': ['x3'], 'data': x3_train,\n",
    "             'title': 'x5<5 && x1>20', 'model': polynomial_regression, 'arg': 2}]\n",
    "\n",
    "plot_target_sets(test_one)"
   ],
   "metadata": {
    "collapsed": false,
    "pycharm": {
     "name": "#%%\n"
    }
   }
  },
  {
   "cell_type": "code",
   "execution_count": null,
   "outputs": [],
   "source": [
    "from itertools import combinations\n",
    "\n",
    "predictors = ['x1', 'x2', 'x3', 'x4', 'x5']\n",
    "models_df = pd.DataFrame(columns=['Order', 'Predictors'])\n",
    "\n",
    "predictor_combinations = []\n",
    "for L in range(2, len(predictors) + 1):\n",
    "    predictor_combinations.extend(combinations(predictors, L))\n",
    "\n",
    "for order in range(2, 5):\n",
    "    for inp in list(map(list, predictor_combinations)):\n",
    "        target_model = polynomial_regression(x=x3_train[inp],\n",
    "                                             y=x3_train['Y'],\n",
    "                                             inputs=inp, arg=order)\n",
    "        comp = pd.DataFrame({'Predicted': target_model.predicted, 'Actual': x3_train['Y']})\n",
    "        comp['Error'] = (comp['Predicted'] - comp['Actual']).abs()\n",
    "        models_df.loc[target_model.error] = [order, inp]\n",
    "\n",
    "models_df.sort_index(inplace=True)\n",
    "display(models_df)"
   ],
   "metadata": {
    "collapsed": false,
    "pycharm": {
     "name": "#%%\n"
    }
   }
  },
  {
   "cell_type": "code",
   "execution_count": null,
   "outputs": [],
   "source": [
    "x5_train, x1_train, x3_train = decision_sets(dataset, ['x5>5', 'x1<20'])\n",
    "train_decisions = [{'predictor': ['x5'], 'data': x5_train,\n",
    "                    'title': 'x5>5', 'model': single_linear_regression, 'arg': None},\n",
    "                   {'predictor': ['x1'], 'data': x1_train,\n",
    "                    'title': 'x5<5 and x1<20', 'model': polynomial_regression, 'arg': 3},\n",
    "                   {'predictor': ['x3', 'x1'], 'data': x3_train,\n",
    "                    'title': 'x5<5 and x1>20', 'model': polynomial_regression, 'arg': 2}]\n",
    "\n",
    "plot_target_sets(train_decisions)"
   ],
   "metadata": {
    "collapsed": false,
    "pycharm": {
     "name": "#%%\n"
    }
   }
  },
  {
   "cell_type": "code",
   "execution_count": null,
   "outputs": [],
   "source": [
    "x5_train, x1_train, x3_train = decision_sets(dataset, ['x5>5', 'x1<20'])\n",
    "\n",
    "train = [{'model': single_linear_regression, 'title': 'x5>5', 'data': x5_train,\n",
    "          'predictor': ['x5'], 'arg': None},\n",
    "         {'model': polynomial_regression, 'title': 'x5<5 and x1<20', 'data': x1_train,\n",
    "          'predictor': ['x1'], 'arg': 3},\n",
    "         {'model': polynomial_regression, 'title': 'x5<5 and x1>20', 'data': x3_train,\n",
    "          'predictor': ['x3', 'x1'], 'arg': 2}]\n",
    "\n",
    "test = decision_sets(predict_set, ['x5>5', 'x1<20'])\n",
    "\n",
    "target_set_predictions = predict(train_sets=train, test_sets=test)"
   ],
   "metadata": {
    "collapsed": false,
    "pycharm": {
     "name": "#%%\n"
    }
   }
  }
 ],
 "metadata": {
  "kernelspec": {
   "display_name": "Python 3",
   "language": "python",
   "name": "python3"
  },
  "language_info": {
   "codemirror_mode": {
    "name": "ipython",
    "version": 2
   },
   "file_extension": ".py",
   "mimetype": "text/x-python",
   "name": "python",
   "nbconvert_exporter": "python",
   "pygments_lexer": "ipython2",
   "version": "2.7.6"
  }
 },
 "nbformat": 4,
 "nbformat_minor": 0
}